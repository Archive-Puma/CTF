{
 "cells": [
  {
   "cell_type": "markdown",
   "id": "ac12a5a7",
   "metadata": {},
   "source": [
    "# 🏴‍☠️ One Piece\n",
    "### Cryptography - A bit complicated"
   ]
  },
  {
   "cell_type": "markdown",
   "id": "1ceaae3a",
   "metadata": {},
   "source": [
    "> 💬 **Desc**: The pirates have hidden the flag using a one-byte long key. Can you help us recover the treasure?\n",
    "\n",
    "> 🔓 **Hint**: It is an encrypted message using a single byte as a key, although I guess you already knew that...\n",
    "\n",
    "> 🔓 **Hint**: There are 256 possible keys, you just have to try them all."
   ]
  },
  {
   "cell_type": "markdown",
   "id": "6443af82",
   "metadata": {},
   "source": [
    "---"
   ]
  },
  {
   "cell_type": "markdown",
   "id": "7d88138c",
   "metadata": {},
   "source": [
    "## Build the challenge"
   ]
  },
  {
   "cell_type": "code",
   "execution_count": 40,
   "id": "c40e880f",
   "metadata": {},
   "outputs": [],
   "source": [
    "FLAG = 'KikeCTF{n317h3r_60ld_n0r_j3w3l5_bu7_fr13nd5h1p}' # CHANGE ME"
   ]
  },
  {
   "cell_type": "code",
   "execution_count": 41,
   "id": "511546b2",
   "metadata": {},
   "outputs": [],
   "source": [
    "KEY = '\\xF4'                                             # CHANGE ME"
   ]
  },
  {
   "cell_type": "code",
   "execution_count": 42,
   "id": "0505e52d",
   "metadata": {
    "scrolled": true
   },
   "outputs": [
    {
     "name": "stdout",
     "output_type": "stream",
     "text": [
      "bf9d9f91b7a0b28f9ac7c5c39cc786abc2c49890ab9ac486ab9ec783c798c1ab9681c3ab9286c5c79a90c19cc58489\n"
     ]
    }
   ],
   "source": [
    "print(''.join([ hex(ord(c) ^ ord(KEY)) for c in FLAG ]).replace('0x', ''))"
   ]
  },
  {
   "cell_type": "markdown",
   "id": "b33ddb47",
   "metadata": {},
   "source": [
    "---"
   ]
  },
  {
   "cell_type": "markdown",
   "id": "b3ef5168",
   "metadata": {},
   "source": [
    "## Walkthrough\n",
    "\n",
    "\n",
    "Since we are told that it is an ***encrypted message with a key***, the first thing we have to think about is that it uses the `XOR` operation.\n",
    "\n",
    "The easiest way is to iterate over the 256 possible bytes (`0x00` - `0xFF`), doing the `XOR` operation byte by by byte, and keep the result that contains the desired text string."
   ]
  },
  {
   "cell_type": "markdown",
   "id": "b8ca0c1b",
   "metadata": {},
   "source": [
    "---"
   ]
  },
  {
   "cell_type": "markdown",
   "id": "c423bd5a",
   "metadata": {},
   "source": [
    "## Auto-solvers"
   ]
  },
  {
   "cell_type": "code",
   "execution_count": 9,
   "id": "2c43910b",
   "metadata": {},
   "outputs": [],
   "source": [
    "CHALLENGE = 'bf9d9f91b7a0b28f9ac7c5c39cc786abc2c49890ab9ac486ab9ec783c798c1ab9681c3ab9286c5c79a90c19cc58489'"
   ]
  },
  {
   "cell_type": "markdown",
   "id": "b5b1b261",
   "metadata": {},
   "source": [
    "### Python"
   ]
  },
  {
   "cell_type": "code",
   "execution_count": 31,
   "id": "2c08cdc1",
   "metadata": {},
   "outputs": [
    {
     "name": "stdout",
     "output_type": "stream",
     "text": [
      "----------\n",
      "Key: 0xf4\n",
      "Message: KikeCTF{n317h3r_60ld_n0r_j3w3l5_bu7_fr13nd5h1p}\n"
     ]
    }
   ],
   "source": [
    "guesses = [(k, ''.join([chr(c^k) for c in bytes.fromhex(CHALLENGE)])) for k in range(256)]\n",
    "for (k,m) in filter(lambda x: 'CTF' in x[1], guesses): print(f'{chr(45) * 10}\\nKey: {hex(k)}\\nMessage: {m}')"
   ]
  }
 ],
 "metadata": {
  "kernelspec": {
   "display_name": "Python 3",
   "language": "python",
   "name": "python3"
  },
  "language_info": {
   "codemirror_mode": {
    "name": "ipython",
    "version": 3
   },
   "file_extension": ".py",
   "mimetype": "text/x-python",
   "name": "python",
   "nbconvert_exporter": "python",
   "pygments_lexer": "ipython3",
   "version": "3.8.5"
  }
 },
 "nbformat": 4,
 "nbformat_minor": 5
}
