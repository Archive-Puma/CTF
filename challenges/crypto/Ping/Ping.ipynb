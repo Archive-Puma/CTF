{
 "cells": [
  {
   "cell_type": "markdown",
   "id": "ac12a5a7",
   "metadata": {},
   "source": [
    "# 🏓 Ping\n",
    "### Cryptography - Not too complicated"
   ]
  },
  {
   "cell_type": "markdown",
   "id": "1ceaae3a",
   "metadata": {},
   "source": [
    "> 💬 **Desc**: Pong\n",
    "\n",
    "> 🔓 **Hint**: What changes and what remains unchanged?\n",
    "\n",
    "> 🔓 **Hint**: Arguably, it is a binary problem..."
   ]
  },
  {
   "cell_type": "markdown",
   "id": "6443af82",
   "metadata": {},
   "source": [
    "---"
   ]
  },
  {
   "cell_type": "markdown",
   "id": "7d88138c",
   "metadata": {},
   "source": [
    "## Build the challenge"
   ]
  },
  {
   "cell_type": "code",
   "execution_count": 1,
   "id": "c40e880f",
   "metadata": {},
   "outputs": [],
   "source": [
    "FLAG = 'KikeCTF{4_v3ry_b1n4ry_64m3}' # CHANGE ME"
   ]
  },
  {
   "cell_type": "code",
   "execution_count": 2,
   "id": "511546b2",
   "metadata": {},
   "outputs": [],
   "source": [
    "DELIMITER = ' '                      # CHANGE ME"
   ]
  },
  {
   "cell_type": "code",
   "execution_count": 3,
   "id": "0505e52d",
   "metadata": {
    "scrolled": true
   },
   "outputs": [
    {
     "name": "stdout",
     "output_type": "stream",
     "text": [
      "PONG PING PONG PONG PING PONG PING PING PONG PING PING PONG PING PONG PONG PING PONG PING PING PONG PING PONG PING PING PONG PING PING PONG PONG PING PONG PING PONG PING PONG PONG PONG PONG PING PING PONG PING PONG PING PONG PING PONG PONG PONG PING PONG PONG PONG PING PING PONG PONG PING PING PING PING PONG PING PING PONG PONG PING PING PONG PING PONG PONG PONG PING PONG PING PING PING PING PING PONG PING PING PING PONG PING PING PONG PONG PONG PING PING PONG PONG PING PING PONG PING PING PING PONG PONG PING PONG PONG PING PING PING PING PONG PONG PING PONG PING PONG PING PING PING PING PING PONG PING PING PONG PONG PONG PING PONG PONG PONG PING PING PONG PONG PONG PING PONG PING PING PONG PING PING PING PONG PONG PONG PING PING PONG PING PONG PONG PONG PING PING PING PONG PONG PING PONG PONG PING PING PING PING PONG PONG PING PONG PING PONG PING PING PING PING PING PONG PONG PING PING PONG PING PING PONG PONG PONG PING PING PONG PING PONG PONG PONG PING PING PONG PING PING PONG PING PONG PONG PING PING PONG PONG PING PING PONG PING PING PING PING PING PONG PING\n"
     ]
    }
   ],
   "source": [
    "print(\n",
    "    DELIMITER.join(\n",
    "        ['PING' if b == '1' else 'PONG' for b in ''.join(\n",
    "            [ format(byte, '08b') for byte in bytearray(FLAG, 'utf8') ]\n",
    "        )]\n",
    "    )\n",
    ")"
   ]
  },
  {
   "cell_type": "markdown",
   "id": "b33ddb47",
   "metadata": {},
   "source": [
    "---"
   ]
  },
  {
   "cell_type": "markdown",
   "id": "b3ef5168",
   "metadata": {},
   "source": [
    "## Walkthrough\n",
    "\n",
    "\n",
    "The challenge is based on a text with only two types of words: `PING` and `PONG`.\n",
    "\n",
    "Given that the difference is ***binary***, we can intuit that the challenge is along these lines. In addition, `P1NG` is likely to refer to bit 1 and `P0NG` to bit 0.\n",
    "\n",
    "Once we have discovered this, we can solve the challenge by deleting all unnecessary characters and converting the resulting binary string to text."
   ]
  },
  {
   "cell_type": "markdown",
   "id": "b8ca0c1b",
   "metadata": {},
   "source": [
    "---"
   ]
  },
  {
   "cell_type": "markdown",
   "id": "c423bd5a",
   "metadata": {},
   "source": [
    "## Auto-solvers"
   ]
  },
  {
   "cell_type": "code",
   "execution_count": 4,
   "id": "2c43910b",
   "metadata": {},
   "outputs": [],
   "source": [
    "CHALLENGE = '''\n",
    "PONG PING PONG PONG PING PONG PING PING PONG PING PING PONG PING PONG PONG PING PONG PING PING PONG PING PONG PING\n",
    "PING PONG PING PING PONG PONG PING PONG PING PONG PING PONG PONG PONG PONG PING PING PONG PING PONG PING PONG PING\n",
    "PONG PONG PONG PING PONG PONG PONG PING PING PONG PONG PING PING PING PING PONG PING PING PONG PONG PING PING PONG\n",
    "PING PONG PONG PONG PING PONG PING PING PING PING PING PONG PING PING PING PONG PING PING PONG PONG PONG PING PING\n",
    "PONG PONG PING PING PONG PING PING PING PONG PONG PING PONG PONG PING PING PING PING PONG PONG PING PONG PING PONG\n",
    "PING PING PING PING PING PONG PING PING PONG PONG PONG PING PONG PONG PONG PING PING PONG PONG PONG PING PONG PING\n",
    "PING PONG PING PING PING PONG PONG PONG PING PING PONG PING PONG PONG PONG PING PING PING PONG PONG PING PONG PONG\n",
    "PING PING PING PING PONG PONG PING PONG PING PONG PING PING PING PING PING PONG PONG PING PING PONG PING PING PONG\n",
    "PONG PONG PING PING PONG PING PONG PONG PONG PING PING PONG PING PING PONG PING PONG PONG PING PING PONG PONG PING\n",
    "PING PONG PING PING PING PING PING PONG PING\n",
    "'''"
   ]
  },
  {
   "cell_type": "markdown",
   "id": "67423b79",
   "metadata": {},
   "source": [
    "### Bash"
   ]
  },
  {
   "cell_type": "markdown",
   "id": "0185594f",
   "metadata": {},
   "source": [
    "```sh\n",
    "cat flag.txt | tr '[:lower:]' '[:upper:]' | tr -cd 'IO' | tr 'IO' '10' | perl -lpe '$_=pack\"B*\",$_'\n",
    "```"
   ]
  },
  {
   "cell_type": "markdown",
   "id": "b5b1b261",
   "metadata": {},
   "source": [
    "### Python"
   ]
  },
  {
   "cell_type": "code",
   "execution_count": 5,
   "id": "2c08cdc1",
   "metadata": {},
   "outputs": [
    {
     "name": "stdout",
     "output_type": "stream",
     "text": [
      "KikeCTF{4_v3ry_b1n4ry_64m3}\n"
     ]
    }
   ],
   "source": [
    "from re import sub\n",
    "binary = sub(r'[^IO]', \"\", CHALLENGE).replace('I', '1').replace('O', '0')\n",
    "print(''.join(chr(int(binary[i * 8:i * 8 + 8], 2)) for i in range(len(binary) // 8)))"
   ]
  }
 ],
 "metadata": {
  "kernelspec": {
   "display_name": "Python 3",
   "language": "python",
   "name": "python3"
  },
  "language_info": {
   "codemirror_mode": {
    "name": "ipython",
    "version": 3
   },
   "file_extension": ".py",
   "mimetype": "text/x-python",
   "name": "python",
   "nbconvert_exporter": "python",
   "pygments_lexer": "ipython3",
   "version": "3.8.5"
  }
 },
 "nbformat": 4,
 "nbformat_minor": 5
}
