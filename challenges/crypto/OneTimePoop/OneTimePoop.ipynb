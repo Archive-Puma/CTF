{
 "cells": [
  {
   "cell_type": "markdown",
   "id": "ac12a5a7",
   "metadata": {},
   "source": [
    "# 💩 One Time Poop\n",
    "### Cryptography - A bit complicated"
   ]
  },
  {
   "cell_type": "markdown",
   "id": "1ceaae3a",
   "metadata": {},
   "source": [
    "> 💬 **Desc**: I was encrypting my flag using OTP encryption, but just thinking about how robust and secure it is made me want to go to the bathroom and in the end I only used a 4-byte key. Hopefully there won't be any problems...\n",
    "\n",
    "> 🔓 **Hint**: OTP encryption should have a key as long as the message to be truly secure.\n",
    "\n",
    "> 🔓 **Hint**: How many characters do you know from the original message?"
   ]
  },
  {
   "cell_type": "markdown",
   "id": "6443af82",
   "metadata": {},
   "source": [
    "---"
   ]
  },
  {
   "cell_type": "markdown",
   "id": "7d88138c",
   "metadata": {},
   "source": [
    "## Build the challenge"
   ]
  },
  {
   "cell_type": "code",
   "execution_count": 1,
   "id": "d37a107f",
   "metadata": {},
   "outputs": [],
   "source": [
    "from random import randint"
   ]
  },
  {
   "cell_type": "code",
   "execution_count": 2,
   "id": "c40e880f",
   "metadata": {},
   "outputs": [],
   "source": [
    "FLAG = 'KikeCTF{0n3_71ny_p00p}' # CHANGE ME"
   ]
  },
  {
   "cell_type": "code",
   "execution_count": 3,
   "id": "511546b2",
   "metadata": {},
   "outputs": [],
   "source": [
    "KEYLEN = 4                      # CHANGE ME"
   ]
  },
  {
   "cell_type": "code",
   "execution_count": 4,
   "id": "0505e52d",
   "metadata": {
    "scrolled": true
   },
   "outputs": [
    {
     "name": "stdout",
     "output_type": "stream",
     "text": [
      "f1572873f96a056d8a5070498d0f2d6fe54e7326ca43\n"
     ]
    }
   ],
   "source": [
    "KEY = [ randint(0,255) for _ in range(KEYLEN) ]\n",
    "\n",
    "print(''.join([ \"{:02x}\".format(ord(FLAG[i]) ^ KEY[i % KEYLEN]) for i in range(len(FLAG)) ]))"
   ]
  },
  {
   "cell_type": "markdown",
   "id": "b33ddb47",
   "metadata": {},
   "source": [
    "---"
   ]
  },
  {
   "cell_type": "markdown",
   "id": "b3ef5168",
   "metadata": {},
   "source": [
    "## Walkthrough\n",
    "\n",
    "\n",
    "When the `OTP` key is neither random nor the same length as the message to be encrypted, a brute force attack can be performed ***if you know a part of the original message that is as long as the key***. \n",
    "\n",
    "We only need to separate the bytes associated with the known string and perform the `XOR` operation. The result will be the key that can be reused in the rest of the blocks."
   ]
  },
  {
   "cell_type": "markdown",
   "id": "b8ca0c1b",
   "metadata": {},
   "source": [
    "---"
   ]
  },
  {
   "cell_type": "markdown",
   "id": "c423bd5a",
   "metadata": {},
   "source": [
    "## Auto-solvers"
   ]
  },
  {
   "cell_type": "code",
   "execution_count": 5,
   "id": "2c43910b",
   "metadata": {},
   "outputs": [],
   "source": [
    "CHALLENGE = '174f85031f72a81d6c48dd396b17801f0356de562c5b'"
   ]
  },
  {
   "cell_type": "code",
   "execution_count": 6,
   "id": "63ad8f9f",
   "metadata": {},
   "outputs": [],
   "source": [
    "KNOWNTEXT = 'Kike'"
   ]
  },
  {
   "cell_type": "markdown",
   "id": "b5b1b261",
   "metadata": {},
   "source": [
    "### Python"
   ]
  },
  {
   "cell_type": "code",
   "execution_count": 7,
   "id": "2c08cdc1",
   "metadata": {
    "scrolled": true
   },
   "outputs": [
    {
     "name": "stdout",
     "output_type": "stream",
     "text": [
      "Key: 5c26ee66\n",
      "Msg: KikeCTF{0n3_71ny_p00p}\n"
     ]
    }
   ],
   "source": [
    "chl = bytes.fromhex(CHALLENGE)\n",
    "key = [ chl[i] ^ ord(KNOWNTEXT[i]) for i in range(len(KNOWNTEXT)) ]\n",
    "print('Key:', ''.join([ '{:02x}'.format(k) for k in key ]))\n",
    "print('Msg:', ''.join([ chr(chl[i] ^ key[i % len(KNOWNTEXT)]) for i in range(len(chl)) ]))"
   ]
  }
 ],
 "metadata": {
  "kernelspec": {
   "display_name": "Python 3",
   "language": "python",
   "name": "python3"
  },
  "language_info": {
   "codemirror_mode": {
    "name": "ipython",
    "version": 3
   },
   "file_extension": ".py",
   "mimetype": "text/x-python",
   "name": "python",
   "nbconvert_exporter": "python",
   "pygments_lexer": "ipython3",
   "version": "3.8.5"
  }
 },
 "nbformat": 4,
 "nbformat_minor": 5
}
